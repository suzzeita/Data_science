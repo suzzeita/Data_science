{
 "cells": [
  {
   "cell_type": "markdown",
   "metadata": {
    "_uuid": "195ce4cf6f7859b808d0b5570d73c7182a5275cd"
   },
   "source": [
    "### **Import packages**"
   ]
  },
  {
   "cell_type": "code",
   "execution_count": null,
   "metadata": {
    "_uuid": "67eaaa5c963fa8fd1bb4d7a0ffdbf78cc285112b"
   },
   "outputs": [],
   "source": [
    "##Importing the packages\n",
    "#Data processing packages\n",
    "import numpy as np \n",
    "import pandas as pd \n",
    "\n",
    "#Visualization packages\n",
    "import matplotlib.pyplot as plt \n",
    "import seaborn as sns \n",
    "\n",
    "#Machine Learning packages\n",
    "from sklearn.svm import SVC,NuSVC\n",
    "from xgboost import XGBClassifier\n",
    "from sklearn.neighbors import KNeighborsClassifier\n",
    "from sklearn.naive_bayes import GaussianNB,MultinomialNB\n",
    "from sklearn.linear_model import SGDClassifier, LogisticRegression\n",
    "from sklearn.tree import DecisionTreeClassifier, ExtraTreeClassifier\n",
    "from sklearn.discriminant_analysis import QuadraticDiscriminantAnalysis, LinearDiscriminantAnalysis\n",
    "from sklearn.ensemble import RandomForestClassifier, AdaBoostClassifier, GradientBoostingClassifier\n",
    "from sklearn.metrics import accuracy_score\n",
    "from sklearn.preprocessing import LabelEncoder\n",
    "from sklearn.model_selection import train_test_split\n",
    "from sklearn.preprocessing import StandardScaler\t\n",
    "from sklearn.metrics import confusion_matrix\n",
    "\n",
    "#Suppress warnings\n",
    "import warnings\n",
    "warnings.filterwarnings('ignore')"
   ]
  },
  {
   "cell_type": "markdown",
   "metadata": {
    "_uuid": "ca7c75920c6cd15edc2371664ab3eb02e87ca529"
   },
   "source": [
    "### **Import data**"
   ]
  },
  {
   "cell_type": "code",
   "execution_count": null,
   "metadata": {
    "_uuid": "ec08827deaf36da3ae4ba6144a8eb6123d051bbd"
   },
   "outputs": [],
   "source": [
    "#\"read_csv\" function from pandas is used to read the contents of csv file into dataframe (cc)\n",
    "data = pd.read_csv('../input/creditcard.csv')\n",
    "data.head()"
   ]
  },
  {
   "cell_type": "markdown",
   "metadata": {
    "_uuid": "4c16b65daf273133026cc77629e441b780bba88b"
   },
   "source": [
    "### **Check and remediate if there are any null values**"
   ]
  },
  {
   "cell_type": "code",
   "execution_count": null,
   "metadata": {
    "_uuid": "c1f49c615ad2b6256a223c7ed27559edaa76ccfc"
   },
   "outputs": [],
   "source": [
    "data.info()"
   ]
  },
  {
   "cell_type": "markdown",
   "metadata": {
    "_uuid": "247f607fa9de6675c73e63e6a11717642ae2e8b0"
   },
   "source": [
    "**COMMENT:** Above output shows that there are No Null values."
   ]
  },
  {
   "cell_type": "markdown",
   "metadata": {
    "_uuid": "39b406a459299f67a4f16655cc05a38463f51a9b"
   },
   "source": [
    "### **Check and remove if there are any fields which does not add value**"
   ]
  },
  {
   "cell_type": "code",
   "execution_count": null,
   "metadata": {
    "_uuid": "2f40fb33332a8546d4e1128f76dbcbdec2de2824"
   },
   "outputs": [],
   "source": [
    "#\"describe\" function displays common statistics like count, mean, max for each numeric fields\n",
    "data.describe()"
   ]
  },
  {
   "cell_type": "markdown",
   "metadata": {
    "_uuid": "020870e347e928cf1841e9cfb8410d1ead882994"
   },
   "source": [
    "**COMMENT:** From the output of **describe** function it looks like all the fields have value, so we will not remove any field."
   ]
  },
  {
   "cell_type": "markdown",
   "metadata": {
    "_uuid": "2f0e14a0319640c785eef99268eaefaba0baba6a"
   },
   "source": [
    "### **Perform datatype conversion or translation wherever required**"
   ]
  },
  {
   "cell_type": "markdown",
   "metadata": {
    "_uuid": "43b0de3a67bf45e95491fb47aa831b12709473d8"
   },
   "source": [
    "**COMMENT:** Since all the fields have numerical datatype we don't need type conversion."
   ]
  },
  {
   "cell_type": "markdown",
   "metadata": {
    "_uuid": "3eb096e21e893b26f1ea64f93db5f870a3f7df6f"
   },
   "source": [
    "### **Convert Categorical values to Numeric Values**"
   ]
  },
  {
   "cell_type": "markdown",
   "metadata": {
    "_uuid": "52e1503009ff9222344c6085b350409eb5bd1ab8"
   },
   "source": [
    "**COMMENT:** Since all the fields have nuermical datatype we don't need to convert from categorical to numerical datatype."
   ]
  },
  {
   "cell_type": "markdown",
   "metadata": {
    "_uuid": "78f4934d858618a704d27af492dc76b49c92d9fa"
   },
   "source": [
    "### **Separating the Feature and Target Matrices**"
   ]
  },
  {
   "cell_type": "code",
   "execution_count": null,
   "metadata": {
    "_uuid": "7a66b241fa8ffbebd62747dd005783b6811b2f4e"
   },
   "outputs": [],
   "source": [
    "#Separating Feature and Target matrices\n",
    "X = data.drop(['Class'], axis=1)\n",
    "y=data['Class']"
   ]
  },
  {
   "cell_type": "markdown",
   "metadata": {
    "_uuid": "df00ec13f9bd909620e174140eabac6ee6909487"
   },
   "source": [
    "### **Scaling the data values to standardize the range of independent variables**"
   ]
  },
  {
   "cell_type": "code",
   "execution_count": null,
   "metadata": {
    "_uuid": "087cd4aac7abe5b95c7c40a742ed133c967f5115"
   },
   "outputs": [],
   "source": [
    "#Feature scaling is a method used to standardize the range of independent variables or features of data.\n",
    "#Since the range of values of raw data varies widely, in some machine learning algorithms, objective functions will not work properly without normalization. \n",
    "from sklearn.preprocessing import StandardScaler\n",
    "scale = StandardScaler()\n",
    "X = scale.fit_transform(X)"
   ]
  },
  {
   "cell_type": "markdown",
   "metadata": {
    "_uuid": "685b4bb0758e52e053673909f4778955e36c4184"
   },
   "source": [
    "### **Split the data into Training set and Testing set**"
   ]
  },
  {
   "cell_type": "code",
   "execution_count": null,
   "metadata": {
    "_uuid": "c4309038b2ed828c961c13f709163585ad31333d"
   },
   "outputs": [],
   "source": [
    "# Split the data into Training set and Testing set\n",
    "from sklearn.model_selection import train_test_split\n",
    "X_train, X_test, y_train, y_test = train_test_split(X,y,test_size =0.2,random_state=42)"
   ]
  },
  {
   "cell_type": "markdown",
   "metadata": {
    "_uuid": "ebee3fe0f7921109d71c6b271c8cbc3d557892bf"
   },
   "source": [
    "**Since the data is highly class imbalanced, we will have to oversample the data. Here SMOTE technique has been used to oversample the data as it proves to be the most effective one.**"
   ]
  },
  {
   "cell_type": "code",
   "execution_count": null,
   "metadata": {
    "_uuid": "d6283969dcf6e4cf7a0448d779be222a937c0486"
   },
   "outputs": [],
   "source": [
    "from imblearn.over_sampling import SMOTE\n",
    "sm = SMOTE(random_state=0, ratio = 1.0)\n",
    "X_train,y_train = sm.fit_sample(X_train,y_train)"
   ]
  },
  {
   "cell_type": "markdown",
   "metadata": {
    "_uuid": "6155a9a6f55a0a08060cd2db592f4b7639c1f7d4"
   },
   "source": [
    "### **Function definition**"
   ]
  },
  {
   "cell_type": "code",
   "execution_count": null,
   "metadata": {
    "_uuid": "8f8bf94cc56068a69307dc7b7779f62b535d28c6"
   },
   "outputs": [],
   "source": [
    "#Function to Train and Test Machine Learning Model\n",
    "def train_test_ml_model(X_train,y_train,X_test,Model):\n",
    "    model.fit(X_train,y_train) #Train the Model\n",
    "    y_pred = model.predict(X_test) #Use the Model for prediction\n",
    "\n",
    "    # Test the Model\n",
    "    from sklearn.metrics import confusion_matrix\n",
    "    cm = confusion_matrix(y_test,y_pred)\n",
    "    accuracy = round(100*np.trace(cm)/np.sum(cm),1)\n",
    "\n",
    "    #Plot/Display the results\n",
    "    cm_plot(cm,Model)\n",
    "    print('Accuracy of the Model' ,Model, str(accuracy)+'%')"
   ]
  },
  {
   "cell_type": "code",
   "execution_count": null,
   "metadata": {
    "_uuid": "d1fee1209d5c8ca90e53678ee0e8f4f5a481c9ac"
   },
   "outputs": [],
   "source": [
    "#Function to plot Confusion Matrix\n",
    "def cm_plot(cm,Model):\n",
    "    plt.clf()\n",
    "    plt.imshow(cm, interpolation='nearest', cmap=plt.cm.Wistia)\n",
    "    classNames = ['Negative','Positive']\n",
    "    plt.title('Comparison of Prediction Result for '+ Model)\n",
    "    plt.ylabel('True label')\n",
    "    plt.xlabel('Predicted label')\n",
    "    tick_marks = np.arange(len(classNames))\n",
    "    plt.xticks(tick_marks, classNames, rotation=45)\n",
    "    plt.yticks(tick_marks, classNames)\n",
    "    s = [['TN','FP'], ['FN', 'TP']]\n",
    "    for i in range(2):\n",
    "        for j in range(2):\n",
    "            plt.text(j,i, str(s[i][j])+\" = \"+str(cm[i][j]))\n",
    "    plt.show()\n",
    "    print(cm[1][0])"
   ]
  },
  {
   "cell_type": "markdown",
   "metadata": {
    "_uuid": "98a1f38a357079b5262cf99ad2899fa2fa4e0a91"
   },
   "source": [
    "### **PERFORM PREDICTIONS USING MACHINE LEARNING ALGORITHMS**"
   ]
  },
  {
   "cell_type": "code",
   "execution_count": null,
   "metadata": {
    "_uuid": "0dc1d613dba8d544622b57375574cdc759fbc225"
   },
   "outputs": [],
   "source": [
    "from sklearn.svm import SVC,NuSVC  #Import packages related to Model\n",
    "Model = \"SVC\"\n",
    "model=SVC() #Create the Model\n",
    "\n",
    "train_test_ml_model(X_train,y_train,X_test,Model)"
   ]
  },
  {
   "cell_type": "code",
   "execution_count": null,
   "metadata": {
    "_uuid": "e57d0749ca60c65498d40093a19a9aed42a94c65"
   },
   "outputs": [],
   "source": [
    "#from sklearn.svm import SVC,NuSVC  #Import packages related to Model\n",
    "#Model = \"NuSVC\"\n",
    "#model=NuSVC()#Create the Model\n",
    "\n",
    "#train_test_ml_model(X_train,y_train,X_test,Model)"
   ]
  },
  {
   "cell_type": "code",
   "execution_count": null,
   "metadata": {
    "_uuid": "881e60f4ec4fc1095c3f4c934c31d01b7dda5e1a"
   },
   "outputs": [],
   "source": [
    "from xgboost import XGBClassifier  #Import packages related to Model\n",
    "Model = \"XGBClassifier()\"\n",
    "model=XGBClassifier() #Create the Model\n",
    "\n",
    "train_test_ml_model(X_train,y_train,X_test,Model)"
   ]
  },
  {
   "cell_type": "code",
   "execution_count": null,
   "metadata": {
    "_uuid": "fc9243bb2eba514fbdb02e357fefcff7a396da67"
   },
   "outputs": [],
   "source": [
    "from sklearn.naive_bayes import GaussianNB,MultinomialNB  #Import packages related to Model\n",
    "Model = \"GaussianNB\"\n",
    "model=GaussianNB()\n",
    "\n",
    "train_test_ml_model(X_train,y_train,X_test,Model)"
   ]
  },
  {
   "cell_type": "code",
   "execution_count": null,
   "metadata": {
    "_uuid": "79c9f5b71322620b096367525f0695b81e1b8e02"
   },
   "outputs": [],
   "source": [
    "from sklearn.linear_model import SGDClassifier, LogisticRegression #Import packages related to Model\n",
    "Model = \"SGDClassifier\"\n",
    "model=SGDClassifier()\n",
    "\n",
    "train_test_ml_model(X_train,y_train,X_test,Model)"
   ]
  },
  {
   "cell_type": "code",
   "execution_count": null,
   "metadata": {
    "_uuid": "5d6e5f788057a92c1e6243665339762520355bca"
   },
   "outputs": [],
   "source": [
    "from sklearn.linear_model import SGDClassifier, LogisticRegression #Import packages related to Model\n",
    "Model = \"LogisticRegression\"\n",
    "model=LogisticRegression()\n",
    "\n",
    "train_test_ml_model(X_train,y_train,X_test,Model)"
   ]
  },
  {
   "cell_type": "code",
   "execution_count": null,
   "metadata": {
    "_uuid": "5661c21df037b12719d86f1227bba0d13c0c4209"
   },
   "outputs": [],
   "source": [
    "from sklearn.tree import DecisionTreeClassifier, ExtraTreeClassifier #Import packages related to Model\n",
    "Model = \"DecisionTreeClassifier\"\n",
    "model=DecisionTreeClassifier()\n",
    "\n",
    "train_test_ml_model(X_train,y_train,X_test,Model)"
   ]
  },
  {
   "cell_type": "code",
   "execution_count": null,
   "metadata": {
    "_uuid": "af6f30b882ce38b1c487c388f25ae77aefe12cd4"
   },
   "outputs": [],
   "source": [
    "from sklearn.tree import DecisionTreeClassifier, ExtraTreeClassifier #Import packages related to Model\n",
    "Model = \"ExtraTreeClassifier\"\n",
    "model=ExtraTreeClassifier()\n",
    "\n",
    "train_test_ml_model(X_train,y_train,X_test,Model)"
   ]
  },
  {
   "cell_type": "code",
   "execution_count": null,
   "metadata": {
    "_uuid": "e0d458dd61f7f90aa9c0cf48aa16d950c5996e82"
   },
   "outputs": [],
   "source": [
    "from sklearn.discriminant_analysis import QuadraticDiscriminantAnalysis, LinearDiscriminantAnalysis #Import packages related to Model\n",
    "Model = \"QuadraticDiscriminantAnalysis\"\n",
    "model = QuadraticDiscriminantAnalysis()\n",
    "\n",
    "train_test_ml_model(X_train,y_train,X_test,Model)"
   ]
  },
  {
   "cell_type": "code",
   "execution_count": null,
   "metadata": {
    "_uuid": "66b9355c217b0383da7e969d1bbf967552e45eb3"
   },
   "outputs": [],
   "source": [
    "from sklearn.discriminant_analysis import QuadraticDiscriminantAnalysis, LinearDiscriminantAnalysis #Import packages related to Model\n",
    "Model = \"LinearDiscriminantAnalysis\"\n",
    "model=LinearDiscriminantAnalysis()\n",
    "\n",
    "train_test_ml_model(X_train,y_train,X_test,Model)"
   ]
  },
  {
   "cell_type": "code",
   "execution_count": null,
   "metadata": {
    "_uuid": "5b4ed9fff467929b349999430ef612cc0d62183b"
   },
   "outputs": [],
   "source": [
    "from sklearn.ensemble import RandomForestClassifier, AdaBoostClassifier, GradientBoostingClassifier #Import packages related to Model\n",
    "Model = \"RandomForestClassifier\"\n",
    "model=RandomForestClassifier()\n",
    "\n",
    "train_test_ml_model(X_train,y_train,X_test,Model)"
   ]
  },
  {
   "cell_type": "code",
   "execution_count": null,
   "metadata": {
    "_uuid": "9815eb19fee0a4309035529a42275492f832ae29"
   },
   "outputs": [],
   "source": [
    "from sklearn.ensemble import RandomForestClassifier, AdaBoostClassifier, GradientBoostingClassifier #Import packages related to Model\n",
    "Model = \"AdaBoostClassifier\"\n",
    "model=AdaBoostClassifier()\n",
    "\n",
    "train_test_ml_model(X_train,y_train,X_test,Model)"
   ]
  },
  {
   "cell_type": "code",
   "execution_count": null,
   "metadata": {
    "_uuid": "294728d46fcff1db4aa4fd1d1157de6a6b8cb390"
   },
   "outputs": [],
   "source": [
    "from sklearn.ensemble import RandomForestClassifier, AdaBoostClassifier, GradientBoostingClassifier #Import packages related to Model\n",
    "Model = \"GradientBoostingClassifier\"\n",
    "model=GradientBoostingClassifier()\n",
    "\n",
    "train_test_ml_model(X_train,y_train,X_test,Model)"
   ]
  },
  {
   "cell_type": "code",
   "execution_count": null,
   "metadata": {
    "_uuid": "3eb4ca0317016d7068966fdc8bd4db910fd493ad"
   },
   "outputs": [],
   "source": []
  },
  {
   "cell_type": "code",
   "execution_count": null,
   "metadata": {
    "_uuid": "00b45b31cd5698af7ff4f827eefcbb424898bb85"
   },
   "outputs": [],
   "source": []
  },
  {
   "cell_type": "code",
   "execution_count": null,
   "metadata": {
    "_uuid": "f36630fb3174427ef8c84331158efd6899a1eaef"
   },
   "outputs": [],
   "source": []
  }
 ],
 "metadata": {
  "kernelspec": {
   "display_name": "Python 3",
   "language": "python",
   "name": "python3"
  },
  "language_info": {
   "codemirror_mode": {
    "name": "ipython",
    "version": 3
   },
   "file_extension": ".py",
   "mimetype": "text/x-python",
   "name": "python",
   "nbconvert_exporter": "python",
   "pygments_lexer": "ipython3",
   "version": "3.9.1"
  }
 },
 "nbformat": 4,
 "nbformat_minor": 4
}
